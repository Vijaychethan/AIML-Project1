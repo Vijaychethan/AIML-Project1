{
  "nbformat": 4,
  "nbformat_minor": 0,
  "metadata": {
    "colab": {
      "provenance": [],
      "authorship_tag": "ABX9TyOIWLPGr0BzgzVff3Xk0816",
      "include_colab_link": true
    },
    "kernelspec": {
      "name": "python3",
      "display_name": "Python 3"
    },
    "language_info": {
      "name": "python"
    }
  },
  "cells": [
    {
      "cell_type": "markdown",
      "metadata": {
        "id": "view-in-github",
        "colab_type": "text"
      },
      "source": [
        "<a href=\"https://colab.research.google.com/github/Vijaychethan/AIML-Project1/blob/main/day1_29032023.ipynb\" target=\"_parent\"><img src=\"https://colab.research.google.com/assets/colab-badge.svg\" alt=\"Open In Colab\"/></a>"
      ]
    },
    {
      "cell_type": "code",
      "execution_count": null,
      "metadata": {
        "colab": {
          "base_uri": "https://localhost:8080/"
        },
        "id": "HCe3QqL4BlTo",
        "outputId": "6f5ccaac-e4b8-4bd4-9cf0-02a19c732e52"
      },
      "outputs": [
        {
          "output_type": "stream",
          "name": "stdout",
          "text": [
            "hello world\n"
          ]
        }
      ],
      "source": [
        "print(\"hello world\")"
      ]
    },
    {
      "cell_type": "code",
      "source": [
        "d = {'key1':'item1','key2':'item2'} \n",
        "# dictionary\n",
        "d['key1']"
      ],
      "metadata": {
        "id": "V-xTzXEkniyw",
        "outputId": "6aaa33c1-3fd7-4c7f-8a0b-aff09d5d1f4c",
        "colab": {
          "base_uri": "https://localhost:8080/",
          "height": 36
        }
      },
      "execution_count": 1,
      "outputs": [
        {
          "output_type": "execute_result",
          "data": {
            "text/plain": [
              "'item1'"
            ],
            "application/vnd.google.colaboratory.intrinsic+json": {
              "type": "string"
            }
          },
          "metadata": {},
          "execution_count": 1
        }
      ]
    },
    {
      "cell_type": "code",
      "source": [
        "t = (1,2,3)\n",
        "# tuples immutable that means changes in data is not available which include indexing or adding data\n",
        "t[2]"
      ],
      "metadata": {
        "id": "OcCaF334qGFn",
        "outputId": "f98fd178-d42e-4f89-d79c-2158b1634f6d",
        "colab": {
          "base_uri": "https://localhost:8080/"
        }
      },
      "execution_count": 2,
      "outputs": [
        {
          "output_type": "execute_result",
          "data": {
            "text/plain": [
              "3"
            ]
          },
          "metadata": {},
          "execution_count": 2
        }
      ]
    },
    {
      "cell_type": "code",
      "source": [
        "x = [1,2,3,4]\n",
        "# lists...basically array in python indexing , modifying can be done(mutable)\n",
        "x[0]"
      ],
      "metadata": {
        "id": "2eGl1ykPqug0",
        "outputId": "1aab5973-bd67-4027-8e80-78a95e12fd18",
        "colab": {
          "base_uri": "https://localhost:8080/"
        }
      },
      "execution_count": 3,
      "outputs": [
        {
          "output_type": "execute_result",
          "data": {
            "text/plain": [
              "1"
            ]
          },
          "metadata": {},
          "execution_count": 3
        }
      ]
    },
    {
      "cell_type": "code",
      "source": [
        "players = [ \"Sachin\", \"Sehwag\", \"Gambhir\", \"Dravid\", \"Raina\" ] \n",
        "  \n",
        "# initializing their scores \n",
        "scores = [100, 15, 17, 28, 43 ] \n",
        "  \n",
        "# printing players and scores. \n",
        "for pl, sc in zip(players, scores): \n",
        "    print (\"Player :  %s     Score : %d\" %(pl, sc))"
      ],
      "metadata": {
        "id": "Z2VTSU0crKxN",
        "outputId": "e7f88ce1-dda9-4b60-c50f-388a4499035e",
        "colab": {
          "base_uri": "https://localhost:8080/"
        }
      },
      "execution_count": 4,
      "outputs": [
        {
          "output_type": "stream",
          "name": "stdout",
          "text": [
            "Player :  Sachin     Score : 100\n",
            "Player :  Sehwag     Score : 15\n",
            "Player :  Gambhir     Score : 17\n",
            "Player :  Dravid     Score : 28\n",
            "Player :  Raina     Score : 43\n"
          ]
        }
      ]
    },
    {
      "cell_type": "markdown",
      "source": [
        "** What is 7 to the power of 4?**"
      ],
      "metadata": {
        "id": "_st5wXk8rlLn"
      }
    },
    {
      "cell_type": "code",
      "source": [
        "7**4"
      ],
      "metadata": {
        "id": "gWJS1fRrrmRt",
        "outputId": "96612ba4-aa9a-4feb-b270-59b70548a840",
        "colab": {
          "base_uri": "https://localhost:8080/"
        }
      },
      "execution_count": 5,
      "outputs": [
        {
          "output_type": "execute_result",
          "data": {
            "text/plain": [
              "2401"
            ]
          },
          "metadata": {},
          "execution_count": 5
        }
      ]
    },
    {
      "cell_type": "markdown",
      "source": [
        "** Split this string:**"
      ],
      "metadata": {
        "id": "l--lFRGDrqEQ"
      }
    },
    {
      "cell_type": "code",
      "source": [
        "s = \"Hi there Sam!\"\n",
        "v=list(s)\n",
        "print(v)"
      ],
      "metadata": {
        "id": "haGORvz3rt54",
        "outputId": "8cdaf281-5155-4e01-8811-6248558be2a6",
        "colab": {
          "base_uri": "https://localhost:8080/"
        }
      },
      "execution_count": 6,
      "outputs": [
        {
          "output_type": "stream",
          "name": "stdout",
          "text": [
            "['H', 'i', ' ', 't', 'h', 'e', 'r', 'e', ' ', 'S', 'a', 'm', '!']\n"
          ]
        }
      ]
    },
    {
      "cell_type": "markdown",
      "source": [
        "** Use .format() to print the following string: **"
      ],
      "metadata": {
        "id": "7Jhe-QoqsDMg"
      }
    },
    {
      "cell_type": "code",
      "source": [
        "planet = \"Earth\"\n",
        "diameter = 12742\n",
        "print(\"The diameter of {} is {} kilometers.\".format(planet,diameter))"
      ],
      "metadata": {
        "id": "PWqt-YezsEtV",
        "outputId": "abdfa735-ed01-4e5e-a049-496805c127a0",
        "colab": {
          "base_uri": "https://localhost:8080/"
        }
      },
      "execution_count": 10,
      "outputs": [
        {
          "output_type": "stream",
          "name": "stdout",
          "text": [
            "The diameter of Earth is 12742 kilometers.\n"
          ]
        }
      ]
    },
    {
      "cell_type": "markdown",
      "source": [
        "** Given this nested list, use indexing to grab the word \"hello\" **"
      ],
      "metadata": {
        "id": "2W0ni8B_s1GE"
      }
    },
    {
      "cell_type": "code",
      "source": [
        "lst = [1,2,[3,4],[5,[100,200,['hello']],23,11],1,7]\n",
        "print(lst[3][1][2][0])"
      ],
      "metadata": {
        "id": "URmbNdqDs2pD",
        "outputId": "b90cb733-94e1-456e-d92f-fcc4d82be584",
        "colab": {
          "base_uri": "https://localhost:8080/"
        }
      },
      "execution_count": 17,
      "outputs": [
        {
          "output_type": "stream",
          "name": "stdout",
          "text": [
            "hello\n"
          ]
        }
      ]
    },
    {
      "cell_type": "markdown",
      "source": [
        " Create a function that grabs the email website domain from a string in the form:"
      ],
      "metadata": {
        "id": "hdKfHL7Eug0t"
      }
    },
    {
      "cell_type": "code",
      "source": [
        "def domainGet(email):\n",
        "    return email.split('@')[-1]\n",
        "\n",
        "domainGet(\"viajy@gmail.com\")"
      ],
      "metadata": {
        "id": "K_Ggrkvnuhsb",
        "outputId": "72523371-dae5-4dd6-8ffc-e2f27d6d186b",
        "colab": {
          "base_uri": "https://localhost:8080/",
          "height": 36
        }
      },
      "execution_count": 18,
      "outputs": [
        {
          "output_type": "execute_result",
          "data": {
            "text/plain": [
              "'gmail.com'"
            ],
            "application/vnd.google.colaboratory.intrinsic+json": {
              "type": "string"
            }
          },
          "metadata": {},
          "execution_count": 18
        }
      ]
    },
    {
      "cell_type": "markdown",
      "source": [
        "** Create a function that counts the number of times the word \"dog\" occurs in a string. Again ignore edge cases. **"
      ],
      "metadata": {
        "id": "Y_VKUdyXu5Ju"
      }
    },
    {
      "cell_type": "code",
      "source": [
        "def countDog(st):\n",
        "    count = 0\n",
        "    for word in st.split():\n",
        "        if word == 'dog':\n",
        "            count += 1\n",
        "    return count\n",
        "countDog('This dog runs faster than the other dog dude!')"
      ],
      "metadata": {
        "id": "GqrSoK6Ju5y-",
        "outputId": "2d088112-0c83-457e-c94d-6cbbb58fd94b",
        "colab": {
          "base_uri": "https://localhost:8080/"
        }
      },
      "execution_count": 19,
      "outputs": [
        {
          "output_type": "execute_result",
          "data": {
            "text/plain": [
              "2"
            ]
          },
          "metadata": {},
          "execution_count": 19
        }
      ]
    },
    {
      "cell_type": "markdown",
      "source": [
        "Final Problem\n",
        "*You are driving a little too fast, and a police officer stops you. Write a function to return one of 3 possible results: \"No ticket\", \"Small ticket\", or \"Big Ticket\". If your speed is 60 or less, the result is \"No Ticket\". If speed is between 61 and 80 inclusive, the result is \"Small Ticket\". If speed is 81 or more, the result is \"Big Ticket\". Unless it is your birthday (encoded as a boolean value in the parameters of the function) -- on your birthday, your speed can be 5 higher in all cases. *"
      ],
      "metadata": {
        "id": "VRmQpwVmvReZ"
      }
    },
    {
      "cell_type": "code",
      "source": [
        "def bticket(speed):\n",
        "  if speed in range(0,65):\n",
        "    return \"No ticket\"\n",
        "  elif speed in range(66,85):\n",
        "    return \"Small ticket\"\n",
        "  else:\n",
        "    return \"Big ticket\"\n",
        "def ticket(speed):\n",
        "  print(\"is it your birthday\")\n",
        "  ch=input()\n",
        "  if ch.lower()==\"yes\":\n",
        "      return bticket(speed)\n",
        "\n",
        "  elif speed in range(0,60):\n",
        "    return \"No ticket\"\n",
        "  elif speed in range(61,80):\n",
        "    return \"Small ticket\"\n",
        "  else:\n",
        "    return \"Big ticket\"\n",
        "  \n",
        "print(ticket(81))"
      ],
      "metadata": {
        "id": "dcLt0L7CvS9H",
        "outputId": "42f66ade-c566-46e8-aeea-4c62bb1bd45b",
        "colab": {
          "base_uri": "https://localhost:8080/"
        }
      },
      "execution_count": 33,
      "outputs": [
        {
          "output_type": "stream",
          "name": "stdout",
          "text": [
            "is it your birthday\n",
            "yes\n",
            "Small ticket\n"
          ]
        }
      ]
    }
  ]
}